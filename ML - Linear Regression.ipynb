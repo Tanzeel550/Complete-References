{
 "cells": [
  {
   "cell_type": "markdown",
   "metadata": {},
   "source": [
    "# Linear Regression\n",
    "Linear regression is one of the simplest supervised learningalgorithms in our toolkit. If you have ever taken an introductorystatistics course in college, likely the final topic you covered waslinear regression. In fact, it is so simple that it is sometimes notconsidered machine learning at all! Whatever you believe, the fact isthat linear regression—and its extensions—continues to be a commonand useful method of making predictions when the target vector is aquantitative value (e.g., home price, age).<br>\n",
    "\n",
    "\n",
    "# Best fitting line\n",
    "Linear regression assumes that the relationship between the featuresand the target vector is approximately linear. That is, the effect (alsocalled coefficient, weight, or parameter) of the features on the targetvector is constant. In our solution, for the sake of explanation wehave trained our model using only two features. This means ourlinear model will be:\n",
    "<img src=\"Images/linear_regression.png\">\n",
    "where ŷ is our target, x is the data for a single feature, ˆβ<sub>1</sub> and ˆβ<sub>2</sub> are the coefficients identified by fitting the model, and ε is the error.After we have fit our model, we can view the value of eachparameter. For example, ˆβ<sub>0</sub>, also called the bias or intercept, can beviewed using intercept_:<br>"
   ]
  },
  {
   "cell_type": "code",
   "execution_count": 97,
   "metadata": {},
   "outputs": [],
   "source": [
    "import pandas as pd\n",
    "import numpy as np\n",
    "import matplotlib.pyplot as plt\n",
    "import seaborn as sns\n",
    "\n",
    "from sklearn.datasets import load_boston\n",
    "x = load_boston()['data'][:,0:2]\n",
    "y = load_boston()['target']\n",
    "\n",
    "from sklearn.model_selection import train_test_split\n",
    "x_train,x_test,y_train,y_test = train_test_split(x,y,random_state=10)"
   ]
  },
  {
   "cell_type": "code",
   "execution_count": 98,
   "metadata": {},
   "outputs": [],
   "source": [
    "from sklearn.linear_model import LinearRegression\n",
    "\n",
    "# Create linear regression\n",
    "regression=LinearRegression()\n",
    "\n",
    "# Fit the linear regression\n",
    "\n",
    "model=regression.fit(x_train,y_train)\n"
   ]
  },
  {
   "cell_type": "code",
   "execution_count": 99,
   "metadata": {},
   "outputs": [
    {
     "name": "stdout",
     "output_type": "stream",
     "text": [
      "21.672855487846665\n"
     ]
    },
    {
     "data": {
      "text/plain": [
       "array([-0.31573497,  0.12981678])"
      ]
     },
     "execution_count": 99,
     "metadata": {},
     "output_type": "execute_result"
    }
   ],
   "source": [
    "# we can see the bias or variance by intercept__\n",
    "print(model.intercept_)\n",
    "\n",
    "# we can see our B1, B2, B3, ... , Bn by using coef__\n",
    "model.coef_"
   ]
  },
  {
   "cell_type": "code",
   "execution_count": 100,
   "metadata": {},
   "outputs": [],
   "source": [
    "pred = model.predict(x_test)"
   ]
  },
  {
   "cell_type": "code",
   "execution_count": 101,
   "metadata": {},
   "outputs": [
    {
     "data": {
      "text/plain": [
       "array([25.93951016, 29.45495725, 32.04688206, 26.85637359, 21.20041494,\n",
       "       19.91071653, 21.21082157, 21.39461405, 24.24056974, 21.55220053,\n",
       "       21.63144053, 21.47597579, 21.65110766, 26.83520356, 26.84618166,\n",
       "       24.10496473, 21.61227858, 21.64662423, 21.65068458, 21.2264536 ,\n",
       "       21.2865285 , 19.68749191, 21.62792324, 21.56516145, 27.48725537,\n",
       "       21.66203525, 23.24992577, 19.2252054 , 24.24983972, 15.73356501,\n",
       "       32.04346581, 21.5426527 , 32.70137766, 21.62253996, 20.13478101,\n",
       "       21.58811854, 17.35420103, 32.03329914, 21.42329541, 21.66044079,\n",
       "       21.57870648, 21.4787732 , 18.6431543 , 29.45731895, 21.60046693,\n",
       "       28.80474933, 20.46143093, 17.14720518, 24.25789412, 21.43597217,\n",
       "       20.96486403, 19.81884397, 21.50330581, 21.64700627, 21.63825409,\n",
       "       24.0986595 , 21.62714969, 20.32741091, 20.8407423 , 15.48157693,\n",
       "       21.29620262, 21.63131108, 21.19324776, 24.07610655, 21.65181491,\n",
       "       21.50093148, 21.64392154, 15.33135024, 21.64125673, 24.41233742,\n",
       "       18.53923329, 21.63202464, 19.87577099, 19.06259558, 21.62591833,\n",
       "       21.58143443, 21.50648526, 16.36478236, 24.87112948, 27.4859798 ,\n",
       "       23.26768902, 26.84591645, 26.20058347, 26.07545851, 21.65498489,\n",
       "       21.65367143, 21.65589421, 30.74247217, 21.65680668,  7.22921208,\n",
       "       21.66105331, 21.58321202, 21.66423277, 21.5770394 , 24.86406017,\n",
       "       23.22455962, 24.90418693, 21.62995658, 21.64618536, 21.6324351 ,\n",
       "       25.5348698 , 21.60062796, 24.37099273, 17.40342411, 21.16363182,\n",
       "       21.65502909, 21.62892412, 21.63946967, 21.51720446, 32.04461824,\n",
       "       14.20629182, 20.54609842, 21.64101677, 21.50849018, 21.65259477,\n",
       "       16.66075232, 21.5542086 , 23.25277054, 20.99243085, 20.14606538,\n",
       "       19.60834031, 26.21233513, 21.61813546, 20.62428387, 21.46071001,\n",
       "       21.64387733, 19.34680125])"
      ]
     },
     "execution_count": 101,
     "metadata": {},
     "output_type": "execute_result"
    }
   ],
   "source": [
    "pred"
   ]
  },
  {
   "cell_type": "code",
   "execution_count": 102,
   "metadata": {},
   "outputs": [
    {
     "name": "stdout",
     "output_type": "stream",
     "text": [
      "6.410477716659145\n",
      "92.53307570930329\n"
     ]
    }
   ],
   "source": [
    "from sklearn.metrics import mean_absolute_error, mean_squared_error\n",
    "\n",
    "print(mean_absolute_error(y_test,pred))\n",
    "print(mean_squared_error(y_test,pred))"
   ]
  },
  {
   "cell_type": "code",
   "execution_count": 103,
   "metadata": {},
   "outputs": [
    {
     "data": {
      "text/plain": [
       "<matplotlib.axes._subplots.AxesSubplot at 0x1b5a298b288>"
      ]
     },
     "execution_count": 103,
     "metadata": {},
     "output_type": "execute_result"
    },
    {
     "data": {
      "image/png": "[encoded data removed]",
      "text/plain": [
       "<Figure size 432x288 with 1 Axes>"
      ]
     },
     "metadata": {
      "needs_background": "light"
     },
     "output_type": "display_data"
    }
   ],
   "source": [
    "sns.scatterplot(y_test,pred)"
   ]
  },
  {
   "cell_type": "markdown",
   "metadata": {},
   "source": [
    "The major advantage of linear regression is its interpretability, inlarge part because the coefficients of the model are the effect of aone-unit change on the target vector. For example, the first feature inour solution is the number of crimes per resident. Our model’scoefficient of this feature was ~–1.25, meaning that if we multiplythis coefficient by 1,000 (since the target vector is the house price inthousands of dollars), we have the change in house price for eachadditional one crime per capita:"
   ]
  },
  {
   "cell_type": "code",
   "execution_count": 104,
   "metadata": {},
   "outputs": [
    {
     "data": {
      "text/plain": [
       "-0.3157349676878392"
      ]
     },
     "execution_count": 104,
     "metadata": {},
     "output_type": "execute_result"
    }
   ],
   "source": [
    "model.coef_[0]"
   ]
  },
  {
   "cell_type": "markdown",
   "metadata": {},
   "source": [
    "In the same way we can see the effect of other features. For example, in the following figure \"ZN\" feature has 0.05757 effect and \"INDUS\" has -0.016418 effect"
   ]
  },
  {
   "cell_type": "code",
   "execution_count": 108,
   "metadata": {},
   "outputs": [
    {
     "data": {
      "text/html": [
       "<div>\n",
       "<style scoped>\n",
       "    .dataframe tbody tr th:only-of-type {\n",
       "        vertical-align: middle;\n",
       "    }\n",
       "\n",
       "    .dataframe tbody tr th {\n",
       "        vertical-align: top;\n",
       "    }\n",
       "\n",
       "    .dataframe thead th {\n",
       "        text-align: right;\n",
       "    }\n",
       "</style>\n",
       "<table border=\"1\" class=\"dataframe\">\n",
       "  <thead>\n",
       "    <tr style=\"text-align: right;\">\n",
       "      <th></th>\n",
       "      <th>index</th>\n",
       "      <th>0</th>\n",
       "    </tr>\n",
       "  </thead>\n",
       "  <tbody>\n",
       "    <tr>\n",
       "      <th>0</th>\n",
       "      <td>CRIM</td>\n",
       "      <td>-0.315735</td>\n",
       "    </tr>\n",
       "    <tr>\n",
       "      <th>1</th>\n",
       "      <td>ZN</td>\n",
       "      <td>0.129817</td>\n",
       "    </tr>\n",
       "  </tbody>\n",
       "</table>\n",
       "</div>"
      ],
      "text/plain": [
       "  index         0\n",
       "0  CRIM -0.315735\n",
       "1    ZN  0.129817"
      ]
     },
     "execution_count": 108,
     "metadata": {},
     "output_type": "execute_result"
    }
   ],
   "source": [
    "effect = pd.DataFrame(model.coef_,index=load_boston()['feature_names'][:2]).reset_index()\n",
    "effect"
   ]
  },
  {
   "cell_type": "code",
   "execution_count": 127,
   "metadata": {},
   "outputs": [
    {
     "data": {
      "text/html": [
       "<div>\n",
       "<style scoped>\n",
       "    .dataframe tbody tr th:only-of-type {\n",
       "        vertical-align: middle;\n",
       "    }\n",
       "\n",
       "    .dataframe tbody tr th {\n",
       "        vertical-align: top;\n",
       "    }\n",
       "\n",
       "    .dataframe thead th {\n",
       "        text-align: right;\n",
       "    }\n",
       "</style>\n",
       "<table border=\"1\" class=\"dataframe\">\n",
       "  <thead>\n",
       "    <tr style=\"text-align: right;\">\n",
       "      <th></th>\n",
       "      <th>index</th>\n",
       "      <th>0</th>\n",
       "    </tr>\n",
       "  </thead>\n",
       "  <tbody>\n",
       "    <tr>\n",
       "      <th>1</th>\n",
       "      <td>ZN</td>\n",
       "      <td>0.129817</td>\n",
       "    </tr>\n",
       "  </tbody>\n",
       "</table>\n",
       "</div>"
      ],
      "text/plain": [
       "  index         0\n",
       "1    ZN  0.129817"
      ]
     },
     "execution_count": 127,
     "metadata": {},
     "output_type": "execute_result"
    }
   ],
   "source": [
    "effect[effect[0]==effect[0].max()]"
   ]
  },
  {
   "cell_type": "code",
   "execution_count": 128,
   "metadata": {},
   "outputs": [
    {
     "data": {
      "text/html": [
       "<div>\n",
       "<style scoped>\n",
       "    .dataframe tbody tr th:only-of-type {\n",
       "        vertical-align: middle;\n",
       "    }\n",
       "\n",
       "    .dataframe tbody tr th {\n",
       "        vertical-align: top;\n",
       "    }\n",
       "\n",
       "    .dataframe thead th {\n",
       "        text-align: right;\n",
       "    }\n",
       "</style>\n",
       "<table border=\"1\" class=\"dataframe\">\n",
       "  <thead>\n",
       "    <tr style=\"text-align: right;\">\n",
       "      <th></th>\n",
       "      <th>index</th>\n",
       "      <th>0</th>\n",
       "    </tr>\n",
       "  </thead>\n",
       "  <tbody>\n",
       "    <tr>\n",
       "      <th>0</th>\n",
       "      <td>CRIM</td>\n",
       "      <td>-0.315735</td>\n",
       "    </tr>\n",
       "  </tbody>\n",
       "</table>\n",
       "</div>"
      ],
      "text/plain": [
       "  index         0\n",
       "0  CRIM -0.315735"
      ]
     },
     "execution_count": 128,
     "metadata": {},
     "output_type": "execute_result"
    }
   ],
   "source": [
    "effect[effect[0]==effect[0].min()]"
   ]
  },
  {
   "cell_type": "markdown",
   "metadata": {},
   "source": [
    "# Handling Interactive Effects\n",
    "Sometimes a feature’s effect on our target variable is at least partiallydependent on another feature. For example, imagine a simple coffee-based example where we have two binary features—the presence ofsugar (sugar) and whether or not we have stirred (stirred)—and we want to predict if the coffee tastes sweet. Just putting sugar in the coffee (sugar=1, stirred=0) won’t make the coffee taste sweet(all the sugar is at the bottom!) and just stirring the coffee without adding sugar (sugar=0, stirred=1) won’t make it sweet either.<br>\n",
    "Instead it is the interaction of putting sugar in the coffee and stirringthe coffee (sugar=1, stirred=1) that will make a coffee taste sweet. The effects of sugar and stir on sweetness are dependent on each other. In this case we say there is an interaction effect between the features sugar and stirred.<br>\n",
    "We can account for interaction effects by including a new feature comprising the product of corresponding values from the interacting features.<br>\n",
    "<img src=\"Images/linear_regression-2.png\">\n",
    "where x1 and x2 are the values of the sugar and stirred,respectively, and x1x2 represents the interaction between the two.<br>\n",
    "\n",
    "In our solution, we used a dataset containing only two features. To create an interaction term, we simply multiply those two values together for every observation:"
   ]
  },
  {
   "cell_type": "code",
   "execution_count": 112,
   "metadata": {},
   "outputs": [
    {
     "data": {
      "text/plain": [
       "0.11376"
      ]
     },
     "execution_count": 112,
     "metadata": {},
     "output_type": "execute_result"
    }
   ],
   "source": [
    "interaction_term = np.multiply(x[:,0],x[:,1])\n",
    "interaction_term[0]"
   ]
  },
  {
   "cell_type": "markdown",
   "metadata": {},
   "source": [
    "However, while often we will have a substantive reason for believingthere is an interaction between two features, sometimes we will not.In those cases it can be useful to use scikit-learn’s PolynomialFeatures to create interaction terms for allcombinations of features. We can then use model selection strategies to identify the combination of features and interaction terms thatproduce the best model.<br><br>\n",
    "To create interaction terms using PolynomialFeatures, there are three important parameters we must set. Most important,interaction_only=True tells PolynomialFeatures to only return interaction terms. By default, PolynomialFeatures will add a feature containing ones called a bias. We can prevent thatwith include_bias=False. Finally, the degree parameter determines the maximum number of features to create interaction terms from (in case we wanted to create an interaction term that is the combination of three features)."
   ]
  },
  {
   "cell_type": "code",
   "execution_count": 138,
   "metadata": {},
   "outputs": [],
   "source": [
    "from sklearn.preprocessing import PolynomialFeatures \n",
    "\n",
    "interaction = PolynomialFeatures(degree=3, include_bias=False, interaction_only=True)\n",
    "\n",
    "x = interaction.fit_transform(x)"
   ]
  },
  {
   "cell_type": "markdown",
   "metadata": {},
   "source": [
    "We can see the output of PolynomialFeatures from our solution by checking to see if the first observation’s feature values and interaction term value match our manually calculated version:"
   ]
  },
  {
   "cell_type": "code",
   "execution_count": 139,
   "metadata": {},
   "outputs": [
    {
     "data": {
      "text/plain": [
       "False"
      ]
     },
     "execution_count": 139,
     "metadata": {},
     "output_type": "execute_result"
    }
   ],
   "source": [
    "x[0][2]==interaction_term[0]"
   ]
  },
  {
   "cell_type": "markdown",
   "metadata": {},
   "source": [
    "And now we can perform our linear model on the features_interaction"
   ]
  },
  {
   "cell_type": "code",
   "execution_count": null,
   "metadata": {},
   "outputs": [],
   "source": [
    "x_train,x_test,y_train,y_test = train_test_split(x,y,random_state=10)\n",
    "\n",
    "regression=LinearRegression()\n",
    "\n",
    "model=regression.fit(x_train,y_train)\n",
    "\n",
    "pred = model.predict(x_test)\n",
    "\n",
    "print(mean_absolute_error(y_test,pred))\n",
    "print(mean_squared_error(y_test,pred))"
   ]
  },
  {
   "cell_type": "code",
   "execution_count": null,
   "metadata": {},
   "outputs": [],
   "source": []
  }
 ],
 "metadata": {
  "kernelspec": {
   "display_name": "Python 3",
   "language": "python",
   "name": "python3"
  },
  "language_info": {
   "codemirror_mode": {
    "name": "ipython",
    "version": 3
   },
   "file_extension": ".py",
   "mimetype": "text/x-python",
   "name": "python",
   "nbconvert_exporter": "python",
   "pygments_lexer": "ipython3",
   "version": "3.7.6"
  }
 },
 "nbformat": 4,
 "nbformat_minor": 4
}
