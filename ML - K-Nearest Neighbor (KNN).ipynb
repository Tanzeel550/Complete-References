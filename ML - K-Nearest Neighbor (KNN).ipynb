{
 "cells": [
  {
   "cell_type": "markdown",
   "metadata": {},
   "source": [
    "# K-Nearest Neighbor\n",
    "The K-Nearest Neighbors classifier (KNN) is one of the simplest yet most commonlyused  classifiers  in  supervised  machine  learning.  KNN  is  often  considered  a  lazylearner; it doesn’t technically train a model to make predictions. Instead an observa‐tion is predicted to be the class of that of the largest proportion of the k nearest obser‐vations.  For  example,  if  an  observation  with  an  unknown  class  is  surrounded  by  anobservation of class 1, then the observation is classified as class 1.\n",
    "\n",
    "## How do we measure distance?\n",
    "<img src=\"Images/knn.png\">\n",
    "where xi  and yi  are  the  two  observations  we  are  calculating  the  distance  between. Minkowski includes a hyperparameter, p, where p = 1 is Manhattan distance and p =2 is Euclidean distance, and so on. By default in scikit-learn p = 2."
   ]
  },
  {
   "cell_type": "code",
   "execution_count": 85,
   "metadata": {},
   "outputs": [],
   "source": [
    "from sklearn.datasets import load_wine, load_iris\n",
    "x = load_iris()['data']\n",
    "y = load_iris()['target']\n",
    "\n",
    "from sklearn.model_selection import train_test_split\n",
    "x_train,x_test,y_train,y_test = train_test_split(x,y)\n",
    "\n",
    "import pandas as pd\n",
    "import numpy as np\n",
    "import matplotlib.pyplot as plt"
   ]
  },
  {
   "cell_type": "code",
   "execution_count": 86,
   "metadata": {},
   "outputs": [],
   "source": [
    "from sklearn.neighbors import KNeighborsClassifier\n",
    "\n",
    "model = KNeighborsClassifier(n_neighbors=5, metric='euclidean')\n",
    "# model = KNeighborsClassifier(n_neighbors=5, metric='minkowski')"
   ]
  },
  {
   "cell_type": "code",
   "execution_count": 87,
   "metadata": {},
   "outputs": [
    {
     "data": {
      "text/plain": [
       "KNeighborsClassifier(algorithm='auto', leaf_size=30, metric='euclidean',\n",
       "                     metric_params=None, n_jobs=None, n_neighbors=5, p=2,\n",
       "                     weights='uniform')"
      ]
     },
     "execution_count": 87,
     "metadata": {},
     "output_type": "execute_result"
    }
   ],
   "source": [
    "model.fit(x_train,y_train)"
   ]
  },
  {
   "cell_type": "code",
   "execution_count": 88,
   "metadata": {},
   "outputs": [],
   "source": [
    "pred = model.predict(x_test)"
   ]
  },
  {
   "cell_type": "code",
   "execution_count": 89,
   "metadata": {},
   "outputs": [],
   "source": [
    "from sklearn.metrics import accuracy_score, confusion_matrix,classification_report"
   ]
  },
  {
   "cell_type": "code",
   "execution_count": 90,
   "metadata": {},
   "outputs": [
    {
     "data": {
      "text/plain": [
       "array([[17,  0,  0],\n",
       "       [ 0, 10,  3],\n",
       "       [ 0,  1,  7]], dtype=int64)"
      ]
     },
     "execution_count": 90,
     "metadata": {},
     "output_type": "execute_result"
    }
   ],
   "source": [
    "confusion_matrix(y_test,pred)"
   ]
  },
  {
   "cell_type": "code",
   "execution_count": 91,
   "metadata": {},
   "outputs": [
    {
     "name": "stdout",
     "output_type": "stream",
     "text": [
      "              precision    recall  f1-score   support\n",
      "\n",
      "           0       1.00      1.00      1.00        17\n",
      "           1       0.91      0.77      0.83        13\n",
      "           2       0.70      0.88      0.78         8\n",
      "\n",
      "    accuracy                           0.89        38\n",
      "   macro avg       0.87      0.88      0.87        38\n",
      "weighted avg       0.91      0.89      0.90        38\n",
      "\n"
     ]
    }
   ],
   "source": [
    "print(classification_report(y_test, pred)) "
   ]
  },
  {
   "cell_type": "markdown",
   "metadata": {},
   "source": [
    "KNeighborsClassifier  contains  a  number  of  important  parameters  to  consider.First, metric  sets  the  distance  metric  used.  Second,n_jobs determines how many of the computer’s cores to use. Because making a pre‐diction requires calculating the distance from a point to every single point in the data,using multiple cores is highly recommended. Third, algorithm sets the method usedto calculate the nearest neighbors. While there are real differences in the algorithms,by  default KNeighborsClassifier  attempts  to  auto-select  the  best  algorithm  so  youoften don’t need to worry about this parameter. Fourth, by default KNeighborsClassifier works how we described previously, with each observation in the neighborhoodgetting  one  vote;  however,  if  we  set  the weights  parameter  to distance,  the  closerobservations’ votes are weighted more than observations farther away. Intuitively thismake  sense,  since  more  similar  neighbors  might  tell  us  more  about  an  observation’sclass than others."
   ]
  },
  {
   "cell_type": "markdown",
   "metadata": {},
   "source": [
    "## getting the best n_neighbour value"
   ]
  },
  {
   "cell_type": "code",
   "execution_count": 95,
   "metadata": {},
   "outputs": [],
   "source": [
    "from sklearn.model_selection import GridSearchCV\n",
    "\n",
    "search_cpace = [{'n_neighbors':np.arange(0,40)}]\n",
    "\n",
    "model = KNeighborsClassifier()\n",
    "\n",
    "grid = GridSearchCV(estimator=model, param_grid=search_cpace)"
   ]
  },
  {
   "cell_type": "code",
   "execution_count": 96,
   "metadata": {},
   "outputs": [
    {
     "name": "stderr",
     "output_type": "stream",
     "text": [
      "D:\\Installed\\Anaconda3\\lib\\site-packages\\sklearn\\model_selection\\_validation.py:536: FitFailedWarning: Estimator fit failed. The score on this train-test partition for these parameters will be set to nan. Details: \n",
      "ValueError: Expected n_neighbors > 0. Got 0\n",
      "\n",
      "  FitFailedWarning)\n",
      "D:\\Installed\\Anaconda3\\lib\\site-packages\\sklearn\\model_selection\\_validation.py:536: FitFailedWarning: Estimator fit failed. The score on this train-test partition for these parameters will be set to nan. Details: \n",
      "ValueError: Expected n_neighbors > 0. Got 0\n",
      "\n",
      "  FitFailedWarning)\n",
      "D:\\Installed\\Anaconda3\\lib\\site-packages\\sklearn\\model_selection\\_validation.py:536: FitFailedWarning: Estimator fit failed. The score on this train-test partition for these parameters will be set to nan. Details: \n",
      "ValueError: Expected n_neighbors > 0. Got 0\n",
      "\n",
      "  FitFailedWarning)\n",
      "D:\\Installed\\Anaconda3\\lib\\site-packages\\sklearn\\model_selection\\_validation.py:536: FitFailedWarning: Estimator fit failed. The score on this train-test partition for these parameters will be set to nan. Details: \n",
      "ValueError: Expected n_neighbors > 0. Got 0\n",
      "\n",
      "  FitFailedWarning)\n",
      "D:\\Installed\\Anaconda3\\lib\\site-packages\\sklearn\\model_selection\\_validation.py:536: FitFailedWarning: Estimator fit failed. The score on this train-test partition for these parameters will be set to nan. Details: \n",
      "ValueError: Expected n_neighbors > 0. Got 0\n",
      "\n",
      "  FitFailedWarning)\n"
     ]
    },
    {
     "data": {
      "text/plain": [
       "GridSearchCV(cv=None, error_score=nan,\n",
       "             estimator=KNeighborsClassifier(algorithm='auto', leaf_size=30,\n",
       "                                            metric='minkowski',\n",
       "                                            metric_params=None, n_jobs=None,\n",
       "                                            n_neighbors=5, p=2,\n",
       "                                            weights='uniform'),\n",
       "             iid='deprecated', n_jobs=None,\n",
       "             param_grid=[{'n_neighbors': array([ 0,  1,  2,  3,  4,  5,  6,  7,  8,  9, 10, 11, 12, 13, 14, 15, 16,\n",
       "       17, 18, 19, 20, 21, 22, 23, 24, 25, 26, 27, 28, 29, 30, 31, 32, 33,\n",
       "       34, 35, 36, 37, 38, 39])}],\n",
       "             pre_dispatch='2*n_jobs', refit=True, return_train_score=False,\n",
       "             scoring=None, verbose=0)"
      ]
     },
     "execution_count": 96,
     "metadata": {},
     "output_type": "execute_result"
    }
   ],
   "source": [
    "grid.fit(x_train,y_train)"
   ]
  },
  {
   "cell_type": "code",
   "execution_count": 97,
   "metadata": {},
   "outputs": [
    {
     "data": {
      "text/plain": [
       "{'n_neighbors': 8}"
      ]
     },
     "execution_count": 97,
     "metadata": {},
     "output_type": "execute_result"
    }
   ],
   "source": [
    "grid.best_params_"
   ]
  },
  {
   "cell_type": "code",
   "execution_count": 98,
   "metadata": {},
   "outputs": [],
   "source": [
    "pred = grid.predict(x_test)"
   ]
  },
  {
   "cell_type": "code",
   "execution_count": 99,
   "metadata": {},
   "outputs": [
    {
     "data": {
      "text/plain": [
       "array([[17,  0,  0],\n",
       "       [ 0, 10,  3],\n",
       "       [ 0,  1,  7]], dtype=int64)"
      ]
     },
     "execution_count": 99,
     "metadata": {},
     "output_type": "execute_result"
    }
   ],
   "source": [
    "confusion_matrix(y_test,pred)"
   ]
  },
  {
   "cell_type": "code",
   "execution_count": 100,
   "metadata": {},
   "outputs": [
    {
     "data": {
      "text/plain": [
       "0.8947368421052632"
      ]
     },
     "execution_count": 100,
     "metadata": {},
     "output_type": "execute_result"
    }
   ],
   "source": [
    "accuracy_score(y_test,pred)"
   ]
  },
  {
   "cell_type": "markdown",
   "metadata": {},
   "source": [
    "# using our mind"
   ]
  },
  {
   "cell_type": "code",
   "execution_count": 101,
   "metadata": {},
   "outputs": [],
   "source": [
    "error_rate = [] \n",
    "  \n",
    "# Will take some time \n",
    "for i in range(1, 40):   \n",
    "    knn = KNeighborsClassifier(n_neighbors = i) \n",
    "    knn.fit(x_train, y_train) \n",
    "    pred_i = knn.predict(x_test) \n",
    "    error_rate.append(np.mean(pred_i != y_test)) \n",
    "  "
   ]
  },
  {
   "cell_type": "code",
   "execution_count": 102,
   "metadata": {},
   "outputs": [
    {
     "data": {
      "text/plain": [
       "0.05263157894736842"
      ]
     },
     "execution_count": 102,
     "metadata": {},
     "output_type": "execute_result"
    }
   ],
   "source": [
    "np.array(error_rate).min()"
   ]
  },
  {
   "cell_type": "code",
   "execution_count": 103,
   "metadata": {},
   "outputs": [
    {
     "data": {
      "text/plain": [
       "Text(0, 0.5, 'Error Rate')"
      ]
     },
     "execution_count": 103,
     "metadata": {},
     "output_type": "execute_result"
    },
    {
     "data": {
      "image/png": "[encoded data removed]",
      "text/plain": [
       "<Figure size 1080x432 with 1 Axes>"
      ]
     },
     "metadata": {
      "needs_background": "light"
     },
     "output_type": "display_data"
    }
   ],
   "source": [
    "plt.figure(figsize =(15, 6)) \n",
    "plt.plot(range(1, 40), error_rate, color ='blue', \n",
    "                linestyle ='dashed', marker ='o', \n",
    "         markerfacecolor ='red', markersize = 10) \n",
    "  \n",
    "plt.title('Error Rate vs. K Value') \n",
    "plt.xlabel('K') \n",
    "plt.ylabel('Error Rate') "
   ]
  },
  {
   "cell_type": "code",
   "execution_count": 105,
   "metadata": {},
   "outputs": [
    {
     "name": "stdout",
     "output_type": "stream",
     "text": [
      "WITH K = 1\n",
      "[[17  0  0]\n",
      " [ 0 11  2]\n",
      " [ 0  1  7]]\n",
      "              precision    recall  f1-score   support\n",
      "\n",
      "           0       1.00      1.00      1.00        17\n",
      "           1       0.92      0.85      0.88        13\n",
      "           2       0.78      0.88      0.82         8\n",
      "\n",
      "    accuracy                           0.92        38\n",
      "   macro avg       0.90      0.91      0.90        38\n",
      "weighted avg       0.92      0.92      0.92        38\n",
      "\n",
      "--------------------------------------------------------------\n",
      "WITH K = 12\n",
      "[[17  0  0]\n",
      " [ 0 12  1]\n",
      " [ 0  1  7]]\n",
      "              precision    recall  f1-score   support\n",
      "\n",
      "           0       1.00      1.00      1.00        17\n",
      "           1       0.92      0.92      0.92        13\n",
      "           2       0.88      0.88      0.88         8\n",
      "\n",
      "    accuracy                           0.95        38\n",
      "   macro avg       0.93      0.93      0.93        38\n",
      "weighted avg       0.95      0.95      0.95        38\n",
      "\n"
     ]
    }
   ],
   "source": [
    "# FIRST A QUICK COMPARISON TO OUR ORIGINAL K = 1 \n",
    "knn = KNeighborsClassifier(n_neighbors = 1) \n",
    "\n",
    "knn.fit(x_train, y_train) \n",
    "pred = knn.predict(x_test) \n",
    "\n",
    "print('WITH K = 1') \n",
    "print(confusion_matrix(y_test, pred)) \n",
    "print(classification_report(y_test, pred)) \n",
    "\n",
    "print(\"--------------------------------------------------------------\")\n",
    "\n",
    "# NOW WITH K = 3 \n",
    "knn = KNeighborsClassifier(n_neighbors = 12) \n",
    "\n",
    "knn.fit(x_train, y_train) \n",
    "pred = knn.predict(x_test) \n",
    "\n",
    "print('WITH K = 12') \n",
    "print(confusion_matrix(y_test, pred)) \n",
    "print(classification_report(y_test, pred)) \n"
   ]
  },
  {
   "cell_type": "code",
   "execution_count": null,
   "metadata": {},
   "outputs": [],
   "source": []
  }
 ],
 "metadata": {
  "kernelspec": {
   "display_name": "Python 3",
   "language": "python",
   "name": "python3"
  },
  "language_info": {
   "codemirror_mode": {
    "name": "ipython",
    "version": 3
   },
   "file_extension": ".py",
   "mimetype": "text/x-python",
   "name": "python",
   "nbconvert_exporter": "python",
   "pygments_lexer": "ipython3",
   "version": "3.7.6"
  }
 },
 "nbformat": 4,
 "nbformat_minor": 4
}
